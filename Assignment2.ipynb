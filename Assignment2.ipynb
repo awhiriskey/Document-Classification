{
 "cells": [
  {
   "cell_type": "code",
   "execution_count": 57,
   "metadata": {},
   "outputs": [],
   "source": [
    "import requests\n",
    "from bs4 import BeautifulSoup\n",
    "import glob\n",
    "import os\n",
    "import re\n",
    "from sklearn.feature_extraction.text import TfidfVectorizer\n",
    "from sklearn.feature_extraction.text import TfidfTransformer\n",
    "from sklearn.feature_extraction.text import CountVectorizer\n",
    "from sklearn.naive_bayes import MultinomialNB\n",
    "from sklearn.svm import SVC\n",
    "from sklearn.linear_model import SGDClassifier\n",
    "from sklearn.cross_validation import train_test_split\n",
    "from nltk.stem import WordNetLemmatizer\n",
    "import pandas as pd\n",
    "from sklearn.neighbors import KNeighborsClassifier\n",
    "import numpy as np\n",
    "from nltk.corpus import stopwords\n",
    "from sklearn import metrics\n",
    "from sklearn.model_selection import KFold\n",
    "import seaborn as sns\n",
    "import nltk\n",
    "from sklearn.metrics import confusion_matrix\n",
    "import matplotlib.pyplot as plt"
   ]
  },
  {
   "cell_type": "markdown",
   "metadata": {},
   "source": [
    "## Data Collection"
   ]
  },
  {
   "cell_type": "markdown",
   "metadata": {},
   "source": [
    "In this step I gathered all the urls for the articles and and wrote the main text body of each article to a new text document. I also wrote the categories and article titles to seprate text files which are both stored in seperate folders. "
   ]
  },
  {
   "cell_type": "code",
   "execution_count": 2,
   "metadata": {
    "collapsed": true
   },
   "outputs": [],
   "source": [
    "base_url = 'http://mlg.ucd.ie/modules/COMP41680/archive/'"
   ]
  },
  {
   "cell_type": "code",
   "execution_count": 3,
   "metadata": {
    "collapsed": true
   },
   "outputs": [],
   "source": [
    "# open hmtl connection\n",
    "response = requests.get(base_url + \"index.html\")\n",
    "# parse the html page\n",
    "soup = BeautifulSoup(response.content, \"html.parser\")"
   ]
  },
  {
   "cell_type": "code",
   "execution_count": 4,
   "metadata": {
    "collapsed": true,
    "scrolled": false
   },
   "outputs": [],
   "source": [
    "# store links in list \n",
    "links = []\n",
    "#get all links on the page\n",
    "all_links = soup.find_all(\"a\")\n",
    "#append links to list\n",
    "for link in all_links:\n",
    "    links.append(link.get(\"href\"))\n",
    "# remove end of list which is whitespace\n",
    "links = links[0:12]\n",
    "\n",
    "# Open a file to store all the catagories and titles\n",
    "catfile = open('docs/cat/categories.txt', 'w')\n",
    "titlefile = open('docs/title/titles.txt', 'w')\n",
    "\n",
    "count = 0\n",
    "# Iterate through and each page, parsing each one with bs\n",
    "for link in links:\n",
    "    response = requests.get(base_url + link)\n",
    "    soup1 = BeautifulSoup(response.content, \"html.parser\")\n",
    "    # get table with class: categroy\n",
    "    categories = soup1.findAll('td', {\"class\":\"category\"})\n",
    "    # write all catagories to a file \n",
    "    for cat in categories:\n",
    "        catfile.write(\"%s\\n\" % cat.find(text=True))\n",
    "    # get article titles\n",
    "    for link in soup1.findAll(\"a\")[:-4]:\n",
    "        title = link.string\n",
    "        titlefile.write(\"%s\\n\" % title)\n",
    "    # get all links to the paragraph pages    \n",
    "    all_doc_links = soup1.find_all(\"a\", attrs={'href': re.compile(\"^art\")})\n",
    "    for l in all_doc_links:\n",
    "        doc_url = l.get(\"href\")\n",
    "        response_doc = requests.get(base_url + doc_url)\n",
    "        soup2 = BeautifulSoup(response_doc.content, \"html.parser\")\n",
    "        # Write all paragraphs to seperate files\n",
    "        paragraphs = soup2.find_all(\"p\")\n",
    "#         docfile = open('docs/' + doc_url + '.txt', 'w', encoding=\"utf-8\")\n",
    "        docfile = open('docs/doc_'+ str(count) + '.txt', 'w', encoding=\"utf-8\")\n",
    "        count +=1\n",
    "        for par in paragraphs:\n",
    "            docfile.write(\"%s\\n\" % par.text.strip())\n",
    "        docfile.close()    \n",
    "catfile.close()\n",
    "\n"
   ]
  },
  {
   "cell_type": "markdown",
   "metadata": {},
   "source": [
    "## Load Data"
   ]
  },
  {
   "cell_type": "markdown",
   "metadata": {},
   "source": [
    "In this step I got the name of every text file in the documents folder and read each file, storing the contents in a tuple with the documents corresponding title and category. All tuples were then saved to a list which is the corpus. \n",
    "\n",
    "I had to remove the N/A from the categories list as there we're some empty links on the webpage so the categories and documents did not match correctly. After removing the N/A they now match. "
   ]
  },
  {
   "cell_type": "code",
   "execution_count": 3,
   "metadata": {
    "collapsed": true
   },
   "outputs": [],
   "source": [
    "# load files and their corrosponding classes\n",
    "path = 'docs'\n",
    "cat_path = 'docs/cat/categories.txt'\n",
    "title_path = 'docs/title/titles.txt'\n",
    "corpus_list = []\n",
    "# get all filenames of the docs\n",
    "file_list = sorted(glob.glob(os.path.join(path, '*.txt')), key=os.path.getmtime)\n",
    "# read and save all the categories to a list and the same with titles\n",
    "category_list = [line.strip() for line in open(cat_path, 'r').readlines()]\n",
    "titles_list = [line.strip() for line in open(title_path, 'r').readlines()]\n",
    "# Due to some links being remoeved, I will have to remove the N/A from the catergory list so the catergories and documents matchup\n",
    "while \"N/A\" in category_list: category_list.remove(\"N/A\")  \n",
    "# Each elemnt in the corpus list is a tuple with the class label and the document contents\n",
    "for cat, title, file_path in zip(category_list, titles_list, file_list):\n",
    "    text = \"\"\n",
    "    for line in open(file_path, 'r', encoding=\"utf8\").readlines():\n",
    "        text += line.strip()\n",
    "    tup = (cat, title, text)\n",
    "    corpus_list.append(tup)\n"
   ]
  },
  {
   "cell_type": "markdown",
   "metadata": {},
   "source": [
    "I wrote the code below to manually pre-process the text but I noticed that the performance of the pre-processing was not as accurate as when using the sckit learn Tfidf-vectoriser with stemming as I have implemented below."
   ]
  },
  {
   "cell_type": "code",
   "execution_count": 6,
   "metadata": {
    "collapsed": true
   },
   "outputs": [],
   "source": [
    "# # Preprocess \n",
    "# lemmatizer = WordNetLemmatizer()\n",
    "# stopword_list = stopwords.words()\n",
    "# processed_corpus_list = []\n",
    "\n",
    "# for doc in corpus_list:\n",
    "#     token_list = nltk.word_tokenize(doc[2])\n",
    "#     processed_tokens = []\n",
    "#     for token in token_list:\n",
    "#         lower = token.lower()\n",
    "#         if len(token) > 2 and token not in stopword_list:\n",
    "#             lemma = lemmatizer.lemmatize(token)\n",
    "#             processed_tokens.append(lemma)\n",
    "#     document = (doc[0], doc[1] ,processed_tokens)\n",
    "#     processed_corpus_list.append(document)\n",
    "            "
   ]
  },
  {
   "cell_type": "code",
   "execution_count": 4,
   "metadata": {},
   "outputs": [
    {
     "data": {
      "text/html": [
       "<div>\n",
       "<style scoped>\n",
       "    .dataframe tbody tr th:only-of-type {\n",
       "        vertical-align: middle;\n",
       "    }\n",
       "\n",
       "    .dataframe tbody tr th {\n",
       "        vertical-align: top;\n",
       "    }\n",
       "\n",
       "    .dataframe thead th {\n",
       "        text-align: right;\n",
       "    }\n",
       "</style>\n",
       "<table border=\"1\" class=\"dataframe\">\n",
       "  <thead>\n",
       "    <tr style=\"text-align: right;\">\n",
       "      <th></th>\n",
       "      <th>category</th>\n",
       "      <th>title</th>\n",
       "      <th>documents</th>\n",
       "    </tr>\n",
       "  </thead>\n",
       "  <tbody>\n",
       "    <tr>\n",
       "      <th>0</th>\n",
       "      <td>technology</td>\n",
       "      <td>21st-Century Sports: How Digital Technology Is...</td>\n",
       "      <td>The sporting industry has come a long way sinc...</td>\n",
       "    </tr>\n",
       "    <tr>\n",
       "      <th>1</th>\n",
       "      <td>business</td>\n",
       "      <td>Asian quake hits European shares</td>\n",
       "      <td>Asian quake hits European sharesShares in Euro...</td>\n",
       "    </tr>\n",
       "    <tr>\n",
       "      <th>2</th>\n",
       "      <td>technology</td>\n",
       "      <td>BT offers free net phone calls</td>\n",
       "      <td>BT is offering customers free internet telepho...</td>\n",
       "    </tr>\n",
       "    <tr>\n",
       "      <th>3</th>\n",
       "      <td>business</td>\n",
       "      <td>Barclays shares up on merger talk</td>\n",
       "      <td>Barclays shares up on merger talkShares in UK ...</td>\n",
       "    </tr>\n",
       "    <tr>\n",
       "      <th>4</th>\n",
       "      <td>sport</td>\n",
       "      <td>Barkley fit for match in Ireland</td>\n",
       "      <td>England centre Olly Barkley has been passed fi...</td>\n",
       "    </tr>\n",
       "  </tbody>\n",
       "</table>\n",
       "</div>"
      ],
      "text/plain": [
       "     category                                              title  \\\n",
       "0  technology  21st-Century Sports: How Digital Technology Is...   \n",
       "1    business                   Asian quake hits European shares   \n",
       "2  technology                     BT offers free net phone calls   \n",
       "3    business                  Barclays shares up on merger talk   \n",
       "4       sport                   Barkley fit for match in Ireland   \n",
       "\n",
       "                                           documents  \n",
       "0  The sporting industry has come a long way sinc...  \n",
       "1  Asian quake hits European sharesShares in Euro...  \n",
       "2  BT is offering customers free internet telepho...  \n",
       "3  Barclays shares up on merger talkShares in UK ...  \n",
       "4  England centre Olly Barkley has been passed fi...  "
      ]
     },
     "execution_count": 4,
     "metadata": {},
     "output_type": "execute_result"
    }
   ],
   "source": [
    "# Create a dataframe\n",
    "df = pd.DataFrame(corpus_list, columns= [\"category\",\"title\", \"documents\"])\n",
    "df.head()\n"
   ]
  },
  {
   "cell_type": "code",
   "execution_count": 5,
   "metadata": {},
   "outputs": [
    {
     "data": {
      "text/plain": [
       "category     0\n",
       "title        0\n",
       "documents    0\n",
       "dtype: int64"
      ]
     },
     "execution_count": 5,
     "metadata": {},
     "output_type": "execute_result"
    }
   ],
   "source": [
    "# check for null values\n",
    "df.isnull().sum()"
   ]
  },
  {
   "cell_type": "markdown",
   "metadata": {},
   "source": [
    "## Pre-Process and create TF-IDF matrix "
   ]
  },
  {
   "cell_type": "markdown",
   "metadata": {},
   "source": [
    "I tested pre-processing the text using the method above and the method below. I found the method below seemed to process the text better. The StemmedTFIDFVectorizer failed to remove some punctuation and digits so I removed them manually before. I also removed words that were less then 3 characters. I found a way of implementing the TFIDFVectorizer with stemming incorporated from stack overflow. "
   ]
  },
  {
   "cell_type": "code",
   "execution_count": 20,
   "metadata": {},
   "outputs": [],
   "source": [
    "# The bleow StemmedTFIDFVectorizer struggles to remove digits and puctuation so\n",
    "# I will remove these first. Also removing words shorter then 2\n",
    "df['documents'] = df['documents'].str.replace('\\d+', '') # for digits\n",
    "df['documents'] = df['documents'].str.replace(r'(\\b\\w{1,2}\\b)', '') # for words\n",
    "df['documents'] = df['documents'].str.replace('[^\\w\\s]', '') # for punctuation \n",
    "\n",
    "# Documents and Target \n",
    "X = df['documents']\n",
    "y = df['category']\n",
    "\n",
    "# split dataset\n",
    "X_train, X_test, y_train, y_test = train_test_split(X, y, test_size=0.33, random_state=42)\n",
    "\n",
    "# Taken from https://stackoverflow.com/questions/26195699/sklearn-how-to-speed-up-a-vectorizer-eg-tfidfvectorizer\n",
    "\n",
    "english_stemmer = nltk.stem.SnowballStemmer('english')\n",
    "class StemmedTFIDFVectorizer(TfidfVectorizer):\n",
    "    def build_analyzer(self):\n",
    "        analyzer = super(StemmedTFIDFVectorizer, self).build_analyzer()\n",
    "        return lambda doc: ([english_stemmer.stem(w) for w in analyzer(doc)])\n",
    "\n",
    "# Create the vectoriser object\n",
    "vectorizer_s = StemmedTFIDFVectorizer(strip_accents = 'unicode',min_df=5,\\\n",
    "                                      ngram_range=(1,2), analyzer=\"word\",\\\n",
    "                                      stop_words='english')\n",
    "\n",
    "# Create the weighted document-term matrixes with pre-processing applied. \n",
    "train_X = vectorizer_s.fit_transform(X_train)\n",
    "# Convert to dataframes so they can be viewed \n",
    "X_train_df = pd.DataFrame(train_X.toarray(), columns=vectorizer_s.get_feature_names())\n",
    "test_X = vectorizer_s.transform(X_test)\n",
    "X_test_df = pd.DataFrame(test_X.toarray(), columns=vectorizer_s.get_feature_names())\n",
    "\n",
    "\n"
   ]
  },
  {
   "cell_type": "markdown",
   "metadata": {},
   "source": [
    "## Text Classification"
   ]
  },
  {
   "cell_type": "markdown",
   "metadata": {},
   "source": [
    "The models I decided to use were: K-Nearest Neigbhour and Multinomal Navie Bayes. I performed a hold out evaluation and also performed cross validation. \n"
   ]
  },
  {
   "cell_type": "code",
   "execution_count": 10,
   "metadata": {
    "collapsed": true
   },
   "outputs": [],
   "source": [
    "# Dict to hold classifers performance \n",
    "model_valid_accuracy_comparisons = {}"
   ]
  },
  {
   "cell_type": "code",
   "execution_count": 11,
   "metadata": {},
   "outputs": [
    {
     "data": {
      "text/plain": [
       "MultinomialNB(alpha=1.0, class_prior=None, fit_prior=True)"
      ]
     },
     "execution_count": 11,
     "metadata": {},
     "output_type": "execute_result"
    }
   ],
   "source": [
    "# Multinomal Navie Bayes \n",
    "# Create the Classifer and fit the train and target data\n",
    "mnb = MultinomialNB()\n",
    "mnb.fit(train_X, y_train)"
   ]
  },
  {
   "cell_type": "markdown",
   "metadata": {},
   "source": [
    "We can see that the model performed very well with an accuracy score of 98.7%. The model mis-classified technology 2 times and business 2 times. It only mis-classified sport once. "
   ]
  },
  {
   "cell_type": "code",
   "execution_count": 12,
   "metadata": {},
   "outputs": [
    {
     "name": "stdout",
     "output_type": "stream",
     "text": [
      "Accuracy: 0.987593052109\n",
      "             precision    recall  f1-score   support\n",
      "\n",
      "   business       0.99      0.99      0.99       150\n",
      "      sport       0.99      1.00      1.00       144\n",
      " technology       0.98      0.97      0.98       109\n",
      "\n",
      "avg / total       0.99      0.99      0.99       403\n",
      "\n",
      "Confusion Matrix\n"
     ]
    },
    {
     "data": {
      "text/html": [
       "<div>\n",
       "<style scoped>\n",
       "    .dataframe tbody tr th:only-of-type {\n",
       "        vertical-align: middle;\n",
       "    }\n",
       "\n",
       "    .dataframe tbody tr th {\n",
       "        vertical-align: top;\n",
       "    }\n",
       "\n",
       "    .dataframe thead th {\n",
       "        text-align: right;\n",
       "    }\n",
       "</style>\n",
       "<table border=\"1\" class=\"dataframe\">\n",
       "  <thead>\n",
       "    <tr style=\"text-align: right;\">\n",
       "      <th>Predicted</th>\n",
       "      <th>business</th>\n",
       "      <th>sport</th>\n",
       "      <th>technology</th>\n",
       "      <th>All</th>\n",
       "    </tr>\n",
       "    <tr>\n",
       "      <th>True</th>\n",
       "      <th></th>\n",
       "      <th></th>\n",
       "      <th></th>\n",
       "      <th></th>\n",
       "    </tr>\n",
       "  </thead>\n",
       "  <tbody>\n",
       "    <tr>\n",
       "      <th>business</th>\n",
       "      <td>148</td>\n",
       "      <td>0</td>\n",
       "      <td>2</td>\n",
       "      <td>150</td>\n",
       "    </tr>\n",
       "    <tr>\n",
       "      <th>sport</th>\n",
       "      <td>0</td>\n",
       "      <td>144</td>\n",
       "      <td>0</td>\n",
       "      <td>144</td>\n",
       "    </tr>\n",
       "    <tr>\n",
       "      <th>technology</th>\n",
       "      <td>2</td>\n",
       "      <td>1</td>\n",
       "      <td>106</td>\n",
       "      <td>109</td>\n",
       "    </tr>\n",
       "    <tr>\n",
       "      <th>All</th>\n",
       "      <td>150</td>\n",
       "      <td>145</td>\n",
       "      <td>108</td>\n",
       "      <td>403</td>\n",
       "    </tr>\n",
       "  </tbody>\n",
       "</table>\n",
       "</div>"
      ],
      "text/plain": [
       "Predicted   business  sport  technology  All\n",
       "True                                        \n",
       "business         148      0           2  150\n",
       "sport              0    144           0  144\n",
       "technology         2      1         106  109\n",
       "All              150    145         108  403"
      ]
     },
     "execution_count": 12,
     "metadata": {},
     "output_type": "execute_result"
    }
   ],
   "source": [
    "# Make a set of predictions\n",
    "y_pred = mnb.predict(test_X)\n",
    "\n",
    "# Print performance details\n",
    "accuracy = metrics.accuracy_score(y_test, y_pred) \n",
    "model_valid_accuracy_comparisons[\"Naive Bayes\"] = accuracy\n",
    "print(\"Accuracy: \" +  str(accuracy))\n",
    "print(metrics.classification_report(y_test, y_pred))\n",
    "\n",
    "# Print confusion matrix\n",
    "print(\"Confusion Matrix\")\n",
    "pd.crosstab(np.array(y_test), y_pred, rownames=['True'], colnames=['Predicted'], margins=True)"
   ]
  },
  {
   "cell_type": "code",
   "execution_count": 13,
   "metadata": {},
   "outputs": [
    {
     "data": {
      "text/plain": [
       "KNeighborsClassifier(algorithm='auto', leaf_size=30, metric='minkowski',\n",
       "           metric_params=None, n_jobs=1, n_neighbors=3, p=2,\n",
       "           weights='uniform')"
      ]
     },
     "execution_count": 13,
     "metadata": {},
     "output_type": "execute_result"
    }
   ],
   "source": [
    "# Create the Classifer and fit the train and target data\n",
    "\n",
    "knn = KNeighborsClassifier(n_neighbors=3)\n",
    "knn.fit(train_X, y_train)"
   ]
  },
  {
   "cell_type": "markdown",
   "metadata": {},
   "source": [
    "K-Nearest Neighbours also performed very well with a accuracy score of 96.5%. It mis-classified technology 8 times and sport 1 times while mistaking business 5 times. It seems that the model struggled most with differentiating between technology and business.  "
   ]
  },
  {
   "cell_type": "code",
   "execution_count": 14,
   "metadata": {},
   "outputs": [
    {
     "name": "stdout",
     "output_type": "stream",
     "text": [
      "Accuracy: 0.965260545906\n",
      "             precision    recall  f1-score   support\n",
      "\n",
      "   business       0.97      0.95      0.96       150\n",
      "      sport       0.99      0.97      0.98       144\n",
      " technology       0.93      0.98      0.96       109\n",
      "\n",
      "avg / total       0.97      0.97      0.97       403\n",
      "\n",
      "Confusion Matrix\n"
     ]
    },
    {
     "data": {
      "text/html": [
       "<div>\n",
       "<style scoped>\n",
       "    .dataframe tbody tr th:only-of-type {\n",
       "        vertical-align: middle;\n",
       "    }\n",
       "\n",
       "    .dataframe tbody tr th {\n",
       "        vertical-align: top;\n",
       "    }\n",
       "\n",
       "    .dataframe thead th {\n",
       "        text-align: right;\n",
       "    }\n",
       "</style>\n",
       "<table border=\"1\" class=\"dataframe\">\n",
       "  <thead>\n",
       "    <tr style=\"text-align: right;\">\n",
       "      <th>Predicted</th>\n",
       "      <th>business</th>\n",
       "      <th>sport</th>\n",
       "      <th>technology</th>\n",
       "      <th>All</th>\n",
       "    </tr>\n",
       "    <tr>\n",
       "      <th>True</th>\n",
       "      <th></th>\n",
       "      <th></th>\n",
       "      <th></th>\n",
       "      <th></th>\n",
       "    </tr>\n",
       "  </thead>\n",
       "  <tbody>\n",
       "    <tr>\n",
       "      <th>business</th>\n",
       "      <td>143</td>\n",
       "      <td>1</td>\n",
       "      <td>6</td>\n",
       "      <td>150</td>\n",
       "    </tr>\n",
       "    <tr>\n",
       "      <th>sport</th>\n",
       "      <td>3</td>\n",
       "      <td>139</td>\n",
       "      <td>2</td>\n",
       "      <td>144</td>\n",
       "    </tr>\n",
       "    <tr>\n",
       "      <th>technology</th>\n",
       "      <td>2</td>\n",
       "      <td>0</td>\n",
       "      <td>107</td>\n",
       "      <td>109</td>\n",
       "    </tr>\n",
       "    <tr>\n",
       "      <th>All</th>\n",
       "      <td>148</td>\n",
       "      <td>140</td>\n",
       "      <td>115</td>\n",
       "      <td>403</td>\n",
       "    </tr>\n",
       "  </tbody>\n",
       "</table>\n",
       "</div>"
      ],
      "text/plain": [
       "Predicted   business  sport  technology  All\n",
       "True                                        \n",
       "business         143      1           6  150\n",
       "sport              3    139           2  144\n",
       "technology         2      0         107  109\n",
       "All              148    140         115  403"
      ]
     },
     "execution_count": 14,
     "metadata": {},
     "output_type": "execute_result"
    }
   ],
   "source": [
    "# K-Nearest Neigbhour \n",
    "# Make a set of predictions\n",
    "y_pred = knn.predict(test_X)\n",
    "\n",
    "# Print performance details\n",
    "accuracy = metrics.accuracy_score(y_test, y_pred) \n",
    "model_valid_accuracy_comparisons[\"knn\"] = accuracy\n",
    "print(\"Accuracy: \" +  str(accuracy))\n",
    "print(metrics.classification_report(y_test, y_pred))\n",
    "\n",
    "# Print confusion matrix\n",
    "print(\"Confusion Matrix\")\n",
    "pd.crosstab(np.array(y_test), y_pred, rownames=['True'], colnames=['Predicted'], margins=True)"
   ]
  },
  {
   "cell_type": "code",
   "execution_count": 15,
   "metadata": {},
   "outputs": [
    {
     "data": {
      "image/png": "[encoded data removed]",
      "text/plain": [
       "<matplotlib.figure.Figure at 0x276c521c400>"
      ]
     },
     "metadata": {},
     "output_type": "display_data"
    }
   ],
   "source": [
    "# Plot performance of Classifiers \n",
    "plt.bar(range(len(model_valid_accuracy_comparisons)), list(model_valid_accuracy_comparisons.values()), align='center')\n",
    "plt.xticks(range(len(model_valid_accuracy_comparisons)), list(model_valid_accuracy_comparisons.keys()))\n",
    "plt.ylabel(\"Accuracy\")\n",
    "plt.title(\"Classifiers Performance\")\n",
    "plt.show()"
   ]
  },
  {
   "cell_type": "markdown",
   "metadata": {},
   "source": [
    "#### Cross-Validation"
   ]
  },
  {
   "cell_type": "code",
   "execution_count": 30,
   "metadata": {},
   "outputs": [],
   "source": [
    "# Perform crossvalidation \n",
    "\n",
    "#list to store scores at each fold\n",
    "knn_acc_list = []\n",
    "mnb_acc_list = []\n",
    "# store confusion matrixes\n",
    "knn_confusion_list = []\n",
    "mnb_confusion_list = []\n",
    "\n",
    "# K = 10 \n",
    "kf = KFold(n_splits=10)\n",
    "for train_index, test_index in kf.split(X, y):\n",
    "    X_train, X_test = X[train_index], X[test_index]\n",
    "    y_train, y_test = y[train_index], y[test_index]\n",
    "    # Create the weighted document-term matrixes with pre-processing applied. \n",
    "    CV_X_train = vectorizer_s.fit_transform(X_train)\n",
    "    CV_X_test = vectorizer_s.transform(X_test)\n",
    "    \n",
    "    #MNB\n",
    "    mnb = MultinomialNB()\n",
    "    mnb.fit(CV_X_train, y_train)\n",
    "    y_pred_mnb = mnb.predict(CV_X_test)\n",
    "    #KNN\n",
    "    knn = KNeighborsClassifier(n_neighbors=3)\n",
    "    knn.fit(CV_X_train, y_train)\n",
    "    y_pred_knn = knn.predict(CV_X_test)\n",
    "    \n",
    "    # Store scores\n",
    "    accuracy_mnb = metrics.accuracy_score(y_test, y_pred_mnb)\n",
    "    mnb_acc_list.append(accuracy_mnb)\n",
    "    accuracy_knn = metrics.accuracy_score(y_test, y_pred_knn) \n",
    "    knn_acc_list.append(accuracy_knn)\n",
    "    # Store confusion matrixs\n",
    "    cnf_matrix_mnb = confusion_matrix(y_test, y_pred_mnb)\n",
    "    cnf_matrix_knn = confusion_matrix(y_test, y_pred_knn)\n",
    "    knn_confusion_list.append(cnf_matrix_knn)\n",
    "    \n",
    "    mnb_confusion_list.append(cnf_matrix_mnb)"
   ]
  },
  {
   "cell_type": "code",
   "execution_count": 53,
   "metadata": {},
   "outputs": [],
   "source": [
    "knn_mean_acc = np.mean(knn_acc_list,axis=0) \n",
    "mnb_mean_acc = np.mean(mnb_acc_list,axis=0) \n",
    "\n",
    "# Sum up evrey confusion matrix and store as a DF\n",
    "final_knn = np.zeros((3,3))\n",
    "final_mnb = np.zeros((3,3))\n",
    "for i, x in enumerate(mnb_confusion_list):\n",
    "    \n",
    "    final_mnb = final_mnb + mnb_confusion_list[i]\n",
    "    final_knn = final_knn + knn_confusion_list[i]    \n",
    "\n",
    "col = ['business', 'sport' ,'technology']\n",
    "knn_confusion_df = pd.DataFrame(final_knn, columns=col, index=col)\n",
    "mnb_confusion_df = pd.DataFrame(final_mnb, columns=col, index=col)"
   ]
  },
  {
   "cell_type": "code",
   "execution_count": 77,
   "metadata": {},
   "outputs": [
    {
     "name": "stdout",
     "output_type": "stream",
     "text": [
      "MNB accuracy score: 0.980327868852\n"
     ]
    },
    {
     "data": {
      "text/html": [
       "<div>\n",
       "<style scoped>\n",
       "    .dataframe tbody tr th:only-of-type {\n",
       "        vertical-align: middle;\n",
       "    }\n",
       "\n",
       "    .dataframe tbody tr th {\n",
       "        vertical-align: top;\n",
       "    }\n",
       "\n",
       "    .dataframe thead th {\n",
       "        text-align: right;\n",
       "    }\n",
       "</style>\n",
       "<table border=\"1\" class=\"dataframe\">\n",
       "  <thead>\n",
       "    <tr style=\"text-align: right;\">\n",
       "      <th></th>\n",
       "      <th>business</th>\n",
       "      <th>sport</th>\n",
       "      <th>technology</th>\n",
       "    </tr>\n",
       "  </thead>\n",
       "  <tbody>\n",
       "    <tr>\n",
       "      <th>business</th>\n",
       "      <td>420.0</td>\n",
       "      <td>1.0</td>\n",
       "      <td>9.0</td>\n",
       "    </tr>\n",
       "    <tr>\n",
       "      <th>sport</th>\n",
       "      <td>4.0</td>\n",
       "      <td>454.0</td>\n",
       "      <td>0.0</td>\n",
       "    </tr>\n",
       "    <tr>\n",
       "      <th>technology</th>\n",
       "      <td>6.0</td>\n",
       "      <td>4.0</td>\n",
       "      <td>322.0</td>\n",
       "    </tr>\n",
       "  </tbody>\n",
       "</table>\n",
       "</div>"
      ],
      "text/plain": [
       "            business  sport  technology\n",
       "business       420.0    1.0         9.0\n",
       "sport            4.0  454.0         0.0\n",
       "technology       6.0    4.0       322.0"
      ]
     },
     "execution_count": 77,
     "metadata": {},
     "output_type": "execute_result"
    }
   ],
   "source": [
    "print(\"MNB accuracy score:\", mnb_mean_acc )\n",
    "mnb_confusion_df"
   ]
  },
  {
   "cell_type": "code",
   "execution_count": 76,
   "metadata": {},
   "outputs": [
    {
     "data": {
      "image/png": "[encoded data removed]",
      "text/plain": [
       "<matplotlib.figure.Figure at 0x2a7309111d0>"
      ]
     },
     "metadata": {},
     "output_type": "display_data"
    }
   ],
   "source": [
    "ax = sns.heatmap(mnb_confusion_df, annot=True, fmt='f', cmap=\"YlGnBu\")\n",
    "plt.ylabel(\"true label\")\n",
    "plt.xlabel(\"predicted label\")\n",
    "plt.show()"
   ]
  },
  {
   "cell_type": "markdown",
   "metadata": {},
   "source": [
    "MultinomialNB performed very well with a accuracy score of 98.0%. It mis-classified technology 10 times and sport 5 times while mistaking business 10 times. It seems that the model struggled most with differentiating between technology and business."
   ]
  },
  {
   "cell_type": "code",
   "execution_count": 55,
   "metadata": {},
   "outputs": [
    {
     "name": "stdout",
     "output_type": "stream",
     "text": [
      "KNN accuracy score: 0.959836065574\n"
     ]
    },
    {
     "data": {
      "text/html": [
       "<div>\n",
       "<style scoped>\n",
       "    .dataframe tbody tr th:only-of-type {\n",
       "        vertical-align: middle;\n",
       "    }\n",
       "\n",
       "    .dataframe tbody tr th {\n",
       "        vertical-align: top;\n",
       "    }\n",
       "\n",
       "    .dataframe thead th {\n",
       "        text-align: right;\n",
       "    }\n",
       "</style>\n",
       "<table border=\"1\" class=\"dataframe\">\n",
       "  <thead>\n",
       "    <tr style=\"text-align: right;\">\n",
       "      <th></th>\n",
       "      <th>business</th>\n",
       "      <th>sport</th>\n",
       "      <th>technology</th>\n",
       "    </tr>\n",
       "  </thead>\n",
       "  <tbody>\n",
       "    <tr>\n",
       "      <th>business</th>\n",
       "      <td>402.0</td>\n",
       "      <td>11.0</td>\n",
       "      <td>17.0</td>\n",
       "    </tr>\n",
       "    <tr>\n",
       "      <th>sport</th>\n",
       "      <td>6.0</td>\n",
       "      <td>450.0</td>\n",
       "      <td>2.0</td>\n",
       "    </tr>\n",
       "    <tr>\n",
       "      <th>technology</th>\n",
       "      <td>9.0</td>\n",
       "      <td>4.0</td>\n",
       "      <td>319.0</td>\n",
       "    </tr>\n",
       "  </tbody>\n",
       "</table>\n",
       "</div>"
      ],
      "text/plain": [
       "            business  sport  technology\n",
       "business       402.0   11.0        17.0\n",
       "sport            6.0  450.0         2.0\n",
       "technology       9.0    4.0       319.0"
      ]
     },
     "execution_count": 55,
     "metadata": {},
     "output_type": "execute_result"
    }
   ],
   "source": [
    "print(\"KNN accuracy score:\", knn_mean_acc )\n",
    "knn_confusion_df"
   ]
  },
  {
   "cell_type": "code",
   "execution_count": 78,
   "metadata": {},
   "outputs": [
    {
     "data": {
      "image/png": "[encoded data removed]",
      "text/plain": [
       "<matplotlib.figure.Figure at 0x2a730896470>"
      ]
     },
     "metadata": {},
     "output_type": "display_data"
    }
   ],
   "source": [
    "ax = sns.heatmap(knn_confusion_df, annot=True, fmt='f', cmap=\"YlGnBu\")\n",
    "plt.ylabel(\"true label\")\n",
    "plt.xlabel(\"predicted label\")\n",
    "plt.show()"
   ]
  },
  {
   "cell_type": "markdown",
   "metadata": {},
   "source": [
    "3-Nearest Neighbours performed very well with a accuracy score of 95.9%. It mis-classified technology 13 times and sport 8 times while mistaking business 28 times. It seems that the model struggled most trying to predict business. This is where KNN fall down compared to MNB."
   ]
  },
  {
   "cell_type": "markdown",
   "metadata": {},
   "source": [
    "### Conclusion"
   ]
  },
  {
   "cell_type": "markdown",
   "metadata": {},
   "source": [
    "Comparing both models we can see that both performed very well at classifying the documents. The Naive Bayes model outperformed the K-NN model by 2% in accuracy. It also received a higher F1-score of 0.99 compared to 0.97.\n",
    "\n",
    "Overall it seemed that both models struggled differentiating between technology and business with KNN struggling more then MNB here but results are highly satisfactory. "
   ]
  },
  {
   "cell_type": "code",
   "execution_count": null,
   "metadata": {},
   "outputs": [],
   "source": []
  },
  {
   "cell_type": "code",
   "execution_count": null,
   "metadata": {
    "collapsed": true
   },
   "outputs": [],
   "source": []
  }
 ],
 "metadata": {
  "kernelspec": {
   "display_name": "Python 3",
   "language": "python",
   "name": "python3"
  },
  "language_info": {
   "codemirror_mode": {
    "name": "ipython",
    "version": 3
   },
   "file_extension": ".py",
   "mimetype": "text/x-python",
   "name": "python",
   "nbconvert_exporter": "python",
   "pygments_lexer": "ipython3",
   "version": "3.6.1"
  }
 },
 "nbformat": 4,
 "nbformat_minor": 2
}
